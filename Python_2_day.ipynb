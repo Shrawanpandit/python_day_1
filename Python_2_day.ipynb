{
 "cells": [
  {
   "cell_type": "code",
   "execution_count": 1,
   "id": "97efbf19",
   "metadata": {},
   "outputs": [
    {
     "name": "stdout",
     "output_type": "stream",
     "text": [
      "hello sharwan\n"
     ]
    }
   ],
   "source": [
    "print(\"hello sharwan\")"
   ]
  },
  {
   "cell_type": "code",
   "execution_count": 3,
   "id": "dbeda378",
   "metadata": {},
   "outputs": [
    {
     "name": "stdout",
     "output_type": "stream",
     "text": [
      "['apple', 'orange', 'banana', 'coconut']\n",
      "coconut\n",
      "['apple', 'orange', 'banana']\n",
      "['coconut', 'banana', 'orange', 'apple']\n",
      "['__add__', '__class__', '__class_getitem__', '__contains__', '__delattr__', '__delitem__', '__dir__', '__doc__', '__eq__', '__format__', '__ge__', '__getattribute__', '__getitem__', '__getstate__', '__gt__', '__hash__', '__iadd__', '__imul__', '__init__', '__init_subclass__', '__iter__', '__le__', '__len__', '__lt__', '__mul__', '__ne__', '__new__', '__reduce__', '__reduce_ex__', '__repr__', '__reversed__', '__rmul__', '__setattr__', '__setitem__', '__sizeof__', '__str__', '__subclasshook__', 'append', 'clear', 'copy', 'count', 'extend', 'index', 'insert', 'pop', 'remove', 'reverse', 'sort']\n"
     ]
    }
   ],
   "source": [
    "fruits=[\"apple\",\"orange\",\"banana\",\"coconut\"]\n",
    "print(fruits)\n",
    "print(fruits[3])\n",
    "print(fruits[0:3])\n",
    "print(fruits[::-1])\n",
    "print(dir(fruits))  "
   ]
  },
  {
   "cell_type": "code",
   "execution_count": 4,
   "id": "e772d98a",
   "metadata": {},
   "outputs": [],
   "source": [
    "set1={'a','b','c','d'}\n",
    "set2={'c'}"
   ]
  },
  {
   "cell_type": "code",
   "execution_count": 5,
   "id": "17c4c422",
   "metadata": {},
   "outputs": [],
   "source": [
    "set1.remove('a')\n"
   ]
  },
  {
   "cell_type": "code",
   "execution_count": 6,
   "id": "87545b64",
   "metadata": {},
   "outputs": [
    {
     "ename": "TypeError",
     "evalue": "descriptor 'remove' for 'set' objects doesn't apply to a 'str' object",
     "output_type": "error",
     "traceback": [
      "\u001b[31m---------------------------------------------------------------------------\u001b[39m",
      "\u001b[31mTypeError\u001b[39m                                 Traceback (most recent call last)",
      "\u001b[36mCell\u001b[39m\u001b[36m \u001b[39m\u001b[32mIn[6]\u001b[39m\u001b[32m, line 1\u001b[39m\n\u001b[32m----> \u001b[39m\u001b[32m1\u001b[39m \u001b[38;5;28;43mset\u001b[39;49m\u001b[43m.\u001b[49m\u001b[43mremove\u001b[49m\u001b[43m(\u001b[49m\u001b[33;43m'\u001b[39;49m\u001b[33;43ma\u001b[39;49m\u001b[33;43m'\u001b[39;49m\u001b[43m)\u001b[49m\n",
      "\u001b[31mTypeError\u001b[39m: descriptor 'remove' for 'set' objects doesn't apply to a 'str' object"
     ]
    }
   ],
   "source": [
    "set.remove('a')"
   ]
  },
  {
   "cell_type": "code",
   "execution_count": 8,
   "id": "ab30a726",
   "metadata": {},
   "outputs": [],
   "source": [
    "set1.discard('a')"
   ]
  },
  {
   "cell_type": "code",
   "execution_count": 9,
   "id": "5c5a7693",
   "metadata": {},
   "outputs": [
    {
     "name": "stdout",
     "output_type": "stream",
     "text": [
      "('apple', 'orange', 'banana', 'coconut', 'coconut')\n"
     ]
    }
   ],
   "source": [
    "fruits=(\"apple\",\"orange\",\"banana\",\"coconut\",\"coconut\")\n",
    "print(fruits)"
   ]
  },
  {
   "cell_type": "code",
   "execution_count": 11,
   "id": "c6ee34c8",
   "metadata": {},
   "outputs": [
    {
     "name": "stdout",
     "output_type": "stream",
     "text": [
      "['__add__', '__class__', '__class_getitem__', '__contains__', '__delattr__', '__dir__', '__doc__', '__eq__', '__format__', '__ge__', '__getattribute__', '__getitem__', '__getnewargs__', '__getstate__', '__gt__', '__hash__', '__init__', '__init_subclass__', '__iter__', '__le__', '__len__', '__lt__', '__mul__', '__ne__', '__new__', '__reduce__', '__reduce_ex__', '__repr__', '__rmul__', '__setattr__', '__sizeof__', '__str__', '__subclasshook__', 'count', 'index']\n"
     ]
    }
   ],
   "source": [
    "print(dir(fruits))"
   ]
  },
  {
   "cell_type": "code",
   "execution_count": 12,
   "id": "e734a84a",
   "metadata": {},
   "outputs": [
    {
     "name": "stdout",
     "output_type": "stream",
     "text": [
      "apple\n",
      "2\n"
     ]
    }
   ],
   "source": [
    "len(fruits)\n",
    "print(fruits[0])\n",
    "print(fruits.count(\"coconut\"))"
   ]
  },
  {
   "cell_type": "code",
   "execution_count": 17,
   "id": "4ecf7417",
   "metadata": {},
   "outputs": [
    {
     "name": "stdout",
     "output_type": "stream",
     "text": [
      "('apple', 'orange', 'banana', 'cheery', 'watermelon', 'orange')\n"
     ]
    }
   ],
   "source": [
    "newTuple=(\"apple\",\"orange\",\"banana\",\"cheery\",\"watermelon\")\n",
    "\n",
    "y=(\"orange\",)\n",
    "newTuple+=y\n",
    "print(newTuple)"
   ]
  },
  {
   "cell_type": "code",
   "execution_count": 22,
   "id": "1ff65361",
   "metadata": {},
   "outputs": [
    {
     "ename": "ValueError",
     "evalue": "too many values to unpack (expected 3)",
     "output_type": "error",
     "traceback": [
      "\u001b[31m---------------------------------------------------------------------------\u001b[39m",
      "\u001b[31mValueError\u001b[39m                                Traceback (most recent call last)",
      "\u001b[36mCell\u001b[39m\u001b[36m \u001b[39m\u001b[32mIn[22]\u001b[39m\u001b[32m, line 2\u001b[39m\n\u001b[32m      1\u001b[39m fruits=(\u001b[33m\"\u001b[39m\u001b[33mapple\u001b[39m\u001b[33m\"\u001b[39m,\u001b[33m\"\u001b[39m\u001b[33mbanana\u001b[39m\u001b[33m\"\u001b[39m,\u001b[33m\"\u001b[39m\u001b[33mcheery\u001b[39m\u001b[33m\"\u001b[39m,\u001b[33m\"\u001b[39m\u001b[33mkiwi\u001b[39m\u001b[33m\"\u001b[39m,\u001b[33m\"\u001b[39m\u001b[33mcoconut\u001b[39m\u001b[33m\"\u001b[39m)\n\u001b[32m----> \u001b[39m\u001b[32m2\u001b[39m (green, yellow, red) = fruits\n\u001b[32m      3\u001b[39m \u001b[38;5;28mprint\u001b[39m(green)    \n\u001b[32m      4\u001b[39m \u001b[38;5;28mprint\u001b[39m(yellow)\n",
      "\u001b[31mValueError\u001b[39m: too many values to unpack (expected 3)"
     ]
    }
   ],
   "source": [
    "fruits=(\"apple\",\"banana\",\"cheery\",\"kiwi\",\"coconut\")\n",
    "(green, yellow, red) = fruits\n",
    "print(green)    \n",
    "print(yellow)\n",
    "print(red)"
   ]
  },
  {
   "cell_type": "code",
   "execution_count": 25,
   "id": "6e725cc8",
   "metadata": {},
   "outputs": [
    {
     "name": "stdout",
     "output_type": "stream",
     "text": [
      "('apple', 'banana', 'cheery', 'kiwi', 'coconut')\n"
     ]
    }
   ],
   "source": [
    "(green, yellow, *red) = fruits\n",
    "print(fruits)"
   ]
  },
  {
   "cell_type": "code",
   "execution_count": 24,
   "id": "6496f99b",
   "metadata": {},
   "outputs": [
    {
     "name": "stdout",
     "output_type": "stream",
     "text": [
      "('apple', 'banana', 'cheery', 'kiwi', 'coconut')\n"
     ]
    }
   ],
   "source": [
    "print(fruits)"
   ]
  },
  {
   "cell_type": "code",
   "execution_count": 27,
   "id": "44a0adbf",
   "metadata": {},
   "outputs": [
    {
     "name": "stdout",
     "output_type": "stream",
     "text": [
      "apple\n",
      "banana\n",
      "['cheery', 'kiwi', 'coconut']\n"
     ]
    }
   ],
   "source": [
    "fruits=(\"apple\",\"banana\",\"cheery\",\"kiwi\",\"coconut\")\n",
    "(green, yellow, *red) = fruits\n",
    "print(green)    \n",
    "print(yellow)\n",
    "print(red)"
   ]
  },
  {
   "cell_type": "code",
   "execution_count": 28,
   "id": "2c1a22c5",
   "metadata": {},
   "outputs": [
    {
     "name": "stdout",
     "output_type": "stream",
     "text": [
      "(1, 2, (3, 4), ['a', 'b'])\n"
     ]
    }
   ],
   "source": [
    "t=(1,2,(3,4),[\"a\",\"b\"])\n",
    "print(t)"
   ]
  },
  {
   "cell_type": "code",
   "execution_count": 29,
   "id": "34658951",
   "metadata": {},
   "outputs": [
    {
     "data": {
      "text/plain": [
       "['a', 'p', 'p', 'l', 'e', 's']"
      ]
     },
     "execution_count": 29,
     "metadata": {},
     "output_type": "execute_result"
    }
   ],
   "source": [
    "fruits=(\"apples\")\n",
    "list(fruits)"
   ]
  },
  {
   "cell_type": "code",
   "execution_count": 30,
   "id": "52f4f888",
   "metadata": {},
   "outputs": [
    {
     "name": "stdout",
     "output_type": "stream",
     "text": [
      "[1, 'hello,', 3.4, True] (1, 'hello,', 3.4, True) {1, 3.4, 'hello,'}\n"
     ]
    }
   ],
   "source": [
    "list=[1,\"hello,\",3.4,True]\n",
    "tuple=(1,\"hello,\",3.4,True)\n",
    "set={1,\"hello,\",3.4,True}\n",
    "print(list,tuple,set)"
   ]
  },
  {
   "cell_type": "code",
   "execution_count": 32,
   "id": "f9fe178f",
   "metadata": {},
   "outputs": [
    {
     "name": "stdout",
     "output_type": "stream",
     "text": [
      "yes\n"
     ]
    }
   ],
   "source": [
    "list1=[\"apple\",\"banana\",\"cherry\",\"coconut\",\"cheery\"]\n",
    "if (\"apple\" in list1):\n",
    "         print(\"yes\")\n",
    "else :\n",
    "        print(\"not found\")\n"
   ]
  },
  {
   "cell_type": "code",
   "execution_count": 33,
   "id": "8b56c109",
   "metadata": {},
   "outputs": [
    {
     "name": "stdout",
     "output_type": "stream",
     "text": [
      "apple\n",
      "banana\n",
      "cherry\n",
      "coconut\n",
      "cheery\n",
      "['apple', 'banana', 'cherry', 'coconut', 'cheery', 'apple', 'banana', 'cherry', 'coconut', 'cheery']\n"
     ]
    }
   ],
   "source": [
    "i = 0;\n",
    "while i < len(list1):\n",
    "    print(list1[i])\n",
    "    i += 1\n",
    "print(list1*2)"
   ]
  },
  {
   "cell_type": "code",
   "execution_count": 38,
   "id": "cf7e2745",
   "metadata": {},
   "outputs": [
    {
     "name": "stdout",
     "output_type": "stream",
     "text": [
      "20\n",
      "20\n",
      "['In', 'Out', '_', '_29', '__', '___', '__builtin__', '__builtins__', '__doc__', '__loader__', '__name__', '__package__', '__spec__', '__vsc_ipynb_file__', '_dh', '_i', '_i1', '_i10', '_i11', '_i12', '_i13', '_i14', '_i15', '_i16', '_i17', '_i18', '_i19', '_i2', '_i20', '_i21', '_i22', '_i23', '_i24', '_i25', '_i26', '_i27', '_i28', '_i29', '_i3', '_i30', '_i31', '_i32', '_i33', '_i34', '_i35', '_i36', '_i37', '_i38', '_i4', '_i5', '_i6', '_i7', '_i8', '_i9', '_ih', '_ii', '_iii', '_oh', 'exit', 'fruits', 'get_ipython', 'green', 'i', 'list', 'list1', 'newTuple', 'open', 'quit', 'red', 'set', 'set1', 'set2', 'student', 't', 'tuple', 'y', 'yellow']\n",
      "Help on dict object:\n",
      "\n",
      "class dict(object)\n",
      " |  dict() -> new empty dictionary\n",
      " |  dict(mapping) -> new dictionary initialized from a mapping object's\n",
      " |      (key, value) pairs\n",
      " |  dict(iterable) -> new dictionary initialized as if via:\n",
      " |      d = {}\n",
      " |      for k, v in iterable:\n",
      " |          d[k] = v\n",
      " |  dict(**kwargs) -> new dictionary initialized with the name=value pairs\n",
      " |      in the keyword argument list.  For example:  dict(one=1, two=2)\n",
      " |\n",
      " |  Methods defined here:\n",
      " |\n",
      " |  __contains__(self, key, /)\n",
      " |      True if the dictionary has the specified key, else False.\n",
      " |\n",
      " |  __delitem__(self, key, /)\n",
      " |      Delete self[key].\n",
      " |\n",
      " |  __eq__(self, value, /)\n",
      " |      Return self==value.\n",
      " |\n",
      " |  __ge__(self, value, /)\n",
      " |      Return self>=value.\n",
      " |\n",
      " |  __getattribute__(self, name, /)\n",
      " |      Return getattr(self, name).\n",
      " |\n",
      " |  __getitem__(self, key, /)\n",
      " |      Return self[key].\n",
      " |\n",
      " |  __gt__(self, value, /)\n",
      " |      Return self>value.\n",
      " |\n",
      " |  __init__(self, /, *args, **kwargs)\n",
      " |      Initialize self.  See help(type(self)) for accurate signature.\n",
      " |\n",
      " |  __ior__(self, value, /)\n",
      " |      Return self|=value.\n",
      " |\n",
      " |  __iter__(self, /)\n",
      " |      Implement iter(self).\n",
      " |\n",
      " |  __le__(self, value, /)\n",
      " |      Return self<=value.\n",
      " |\n",
      " |  __len__(self, /)\n",
      " |      Return len(self).\n",
      " |\n",
      " |  __lt__(self, value, /)\n",
      " |      Return self<value.\n",
      " |\n",
      " |  __ne__(self, value, /)\n",
      " |      Return self!=value.\n",
      " |\n",
      " |  __or__(self, value, /)\n",
      " |      Return self|value.\n",
      " |\n",
      " |  __repr__(self, /)\n",
      " |      Return repr(self).\n",
      " |\n",
      " |  __reversed__(self, /)\n",
      " |      Return a reverse iterator over the dict keys.\n",
      " |\n",
      " |  __ror__(self, value, /)\n",
      " |      Return value|self.\n",
      " |\n",
      " |  __setitem__(self, key, value, /)\n",
      " |      Set self[key] to value.\n",
      " |\n",
      " |  __sizeof__(self, /)\n",
      " |      Return the size of the dict in memory, in bytes.\n",
      " |\n",
      " |  clear(self, /)\n",
      " |      Remove all items from the dict.\n",
      " |\n",
      " |  copy(self, /)\n",
      " |      Return a shallow copy of the dict.\n",
      " |\n",
      " |  get(self, key, default=None, /)\n",
      " |      Return the value for key if key is in the dictionary, else default.\n",
      " |\n",
      " |  items(self, /)\n",
      " |      Return a set-like object providing a view on the dict's items.\n",
      " |\n",
      " |  keys(self, /)\n",
      " |      Return a set-like object providing a view on the dict's keys.\n",
      " |\n",
      " |  pop(self, key, default=<unrepresentable>, /)\n",
      " |      D.pop(k[,d]) -> v, remove specified key and return the corresponding value.\n",
      " |\n",
      " |      If the key is not found, return the default if given; otherwise,\n",
      " |      raise a KeyError.\n",
      " |\n",
      " |  popitem(self, /)\n",
      " |      Remove and return a (key, value) pair as a 2-tuple.\n",
      " |\n",
      " |      Pairs are returned in LIFO (last-in, first-out) order.\n",
      " |      Raises KeyError if the dict is empty.\n",
      " |\n",
      " |  setdefault(self, key, default=None, /)\n",
      " |      Insert key with a value of default if key is not in the dictionary.\n",
      " |\n",
      " |      Return the value for key if key is in the dictionary, else default.\n",
      " |\n",
      " |  update(...)\n",
      " |      D.update([E, ]**F) -> None.  Update D from mapping/iterable E and F.\n",
      " |      If E is present and has a .keys() method, then does:  for k in E.keys(): D[k] = E[k]\n",
      " |      If E is present and lacks a .keys() method, then does:  for k, v in E: D[k] = v\n",
      " |      In either case, this is followed by: for k in F:  D[k] = F[k]\n",
      " |\n",
      " |  values(self, /)\n",
      " |      Return an object providing a view on the dict's values.\n",
      " |\n",
      " |  ----------------------------------------------------------------------\n",
      " |  Class methods defined here:\n",
      " |\n",
      " |  __class_getitem__(object, /)\n",
      " |      See PEP 585\n",
      " |\n",
      " |  fromkeys(iterable, value=None, /)\n",
      " |      Create a new dictionary with keys from iterable and values set to value.\n",
      " |\n",
      " |  ----------------------------------------------------------------------\n",
      " |  Static methods defined here:\n",
      " |\n",
      " |  __new__(*args, **kwargs)\n",
      " |      Create and return a new object.  See help(type) for accurate signature.\n",
      " |\n",
      " |  ----------------------------------------------------------------------\n",
      " |  Data and other attributes defined here:\n",
      " |\n",
      " |  __hash__ = None\n",
      "\n",
      "None\n"
     ]
    }
   ],
   "source": [
    "#Dictionary -collection of key-value pairs \n",
    "student={\n",
    "    1:\"first\",\"name\":\"Alice\",\"age\":20,\"course\":[\"maths\",\"science\"]\n",
    "}\n",
    "print(student[\"age\"])\n",
    "print(student.get(\"age\"))\n",
    "print(dir())\n",
    "print(help(student))\n",
    "student=dict(name=\"Alice\",age=30,course=[\"maths\",\"science\"])"
   ]
  },
  {
   "cell_type": "code",
   "execution_count": 40,
   "id": "06f79018",
   "metadata": {},
   "outputs": [
    {
     "name": "stdout",
     "output_type": "stream",
     "text": [
      "{'name': 'Alice', 'course': ['maths', 'science']}\n"
     ]
    }
   ],
   "source": [
    "del student[\"age\"]\n",
    "print(student)\n",
    "\n"
   ]
  },
  {
   "cell_type": "code",
   "execution_count": 41,
   "id": "b3a06055",
   "metadata": {},
   "outputs": [
    {
     "name": "stdout",
     "output_type": "stream",
     "text": [
      "Name exists\n"
     ]
    }
   ],
   "source": [
    "if \"Alice\" in student.values():\n",
    "    print(\"Name exists\")\n",
    "else :\n",
    "    print(\"Name does not exist\")"
   ]
  },
  {
   "cell_type": "code",
   "execution_count": 42,
   "id": "550b7268",
   "metadata": {},
   "outputs": [
    {
     "name": "stdout",
     "output_type": "stream",
     "text": [
      "name\n",
      "course\n"
     ]
    }
   ],
   "source": [
    "for key in student:\n",
    "    print(key)"
   ]
  },
  {
   "cell_type": "code",
   "execution_count": 43,
   "id": "a7ee85ad",
   "metadata": {},
   "outputs": [
    {
     "name": "stdout",
     "output_type": "stream",
     "text": [
      "Alice\n",
      "['maths', 'science']\n"
     ]
    }
   ],
   "source": [
    "for value in student.values():\n",
    "    print(value)"
   ]
  },
  {
   "cell_type": "code",
   "execution_count": 44,
   "id": "b9f76992",
   "metadata": {},
   "outputs": [
    {
     "name": "stdout",
     "output_type": "stream",
     "text": [
      "name Alice\n",
      "course ['maths', 'science']\n"
     ]
    }
   ],
   "source": [
    "for key ,value in student.items():\n",
    "    print(key,value)"
   ]
  },
  {
   "cell_type": "code",
   "execution_count": 45,
   "id": "f7d8c4b9",
   "metadata": {},
   "outputs": [
    {
     "ename": "SyntaxError",
     "evalue": "illegal target for annotation (284074986.py, line 2)",
     "output_type": "error",
     "traceback": [
      "  \u001b[36mCell\u001b[39m\u001b[36m \u001b[39m\u001b[32mIn[45]\u001b[39m\u001b[32m, line 2\u001b[39m\n\u001b[31m    \u001b[39m\u001b[31m\"student1\":{\"name\":\"Bob\",\"age\":22},\u001b[39m\n    ^\n\u001b[31mSyntaxError\u001b[39m\u001b[31m:\u001b[39m illegal target for annotation\n"
     ]
    }
   ],
   "source": [
    "students={\"name\":\"Alice\",\"age\":20},\n",
    "\"student1\":{\"name\":\"Bob\",\"age\":22},\n",
    "\"student2\":{\"name\":\"Charlie\",\"age\":23}\n",
    "\n",
    "print(students[\"students1\"][\"name\"])\n",
    "        "
   ]
  },
  {
   "cell_type": "code",
   "execution_count": null,
   "id": "916087b7",
   "metadata": {},
   "outputs": [],
   "source": []
  }
 ],
 "metadata": {
  "kernelspec": {
   "display_name": "Python 3",
   "language": "python",
   "name": "python3"
  },
  "language_info": {
   "codemirror_mode": {
    "name": "ipython",
    "version": 3
   },
   "file_extension": ".py",
   "mimetype": "text/x-python",
   "name": "python",
   "nbconvert_exporter": "python",
   "pygments_lexer": "ipython3",
   "version": "3.13.3"
  }
 },
 "nbformat": 4,
 "nbformat_minor": 5
}
